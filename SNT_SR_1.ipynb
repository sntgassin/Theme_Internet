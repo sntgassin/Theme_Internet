{
  "nbformat": 4,
  "nbformat_minor": 0,
  "metadata": {
    "colab": {
      "name": "SNT-SR-1.ipynb",
      "provenance": [],
      "collapsed_sections": [],
      "include_colab_link": true
    },
    "kernelspec": {
      "name": "python3",
      "display_name": "Python 3"
    }
  },
  "cells": [
    {
      "cell_type": "markdown",
      "metadata": {
        "id": "view-in-github",
        "colab_type": "text"
      },
      "source": [
        "<a href=\"https://colab.research.google.com/github/sntgassin/Theme_Internet/blob/master/SNT_SR_1.ipynb\" target=\"_parent\"><img src=\"https://colab.research.google.com/assets/colab-badge.svg\" alt=\"Open In Colab\"/></a>"
      ]
    },
    {
      "cell_type": "markdown",
      "metadata": {
        "id": "hUYocJZO6tgA",
        "colab_type": "text"
      },
      "source": [
        "# Leçon 1. Les variables #\n"
      ]
    },
    {
      "cell_type": "markdown",
      "metadata": {
        "id": "hMIxYV0S1Bci",
        "colab_type": "text"
      },
      "source": [
        "## 1-1. À quoi servent les variables ? ##"
      ]
    },
    {
      "cell_type": "markdown",
      "metadata": {
        "id": "g8WmA4IF320a",
        "colab_type": "text"
      },
      "source": [
        ""
      ]
    },
    {
      "cell_type": "code",
      "metadata": {
        "id": "2qcsQ0e7W1aU",
        "colab_type": "code",
        "colab": {},
        "cellView": "both"
      },
      "source": [
        "sonPrenom=input(\"Quel est votre prénom ?\")\n",
        "print(\"\\n\")\n",
        "print(\"Salut \"+sonPrenom+\" !\")"
      ],
      "execution_count": 0,
      "outputs": []
    },
    {
      "cell_type": "markdown",
      "metadata": {
        "id": "H-4NdtLt38FX",
        "colab_type": "text"
      },
      "source": [
        "## 1-2. Quels sont les principaux types de variables ? ##"
      ]
    },
    {
      "cell_type": "markdown",
      "metadata": {
        "colab_type": "text",
        "id": "hWOaGGOp4Njs"
      },
      "source": [
        ""
      ]
    }
  ]
}